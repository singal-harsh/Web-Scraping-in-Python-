{
 "cells": [
  {
   "cell_type": "code",
   "execution_count": 1,
   "metadata": {},
   "outputs": [],
   "source": [
    "import requests"
   ]
  },
  {
   "cell_type": "code",
   "execution_count": 4,
   "metadata": {},
   "outputs": [],
   "source": [
    "def exchange_rate_convertor(date,base,curr,quan):\n",
    "    base_url = \"https://api.exchangeratesapi.io\"+\"/\"+date\n",
    "    r = requests.get(base_url,params ={'base':base,'symbols':curr})\n",
    "    if r.ok is False:\n",
    "        print(\"\\nError {}:\".format(r.status_code))\n",
    "        print(r.json()['error'])\n",
    "    else:\n",
    "        data = r.json()\n",
    "        rate = data['rates'][curr]\n",
    "        result = quan*rate\n",
    "        print(\"\\n{0} {1} is equal to {2} {3}, based upon exchange rates on {4}\".format(quan,base,result,curr,data['date']))\n"
   ]
  },
  {
   "cell_type": "code",
   "execution_count": 5,
   "metadata": {},
   "outputs": [
    {
     "name": "stdout",
     "output_type": "stream",
     "text": [
      "Please enter the date (in the format 'yyyy-mm-dd' or 'latest'): 2018-04-11\n",
      "Convert from (currency): USD\n",
      "Convert to (currency): IND\n",
      "How much USD do you want to convert: 1000\n",
      "\n",
      "Error 400:\n",
      "Symbols 'IND' are invalid for date 2018-04-11.\n"
     ]
    }
   ],
   "source": [
    "date = input(\"Please enter the date (in the format 'yyyy-mm-dd' or 'latest'): \")\n",
    "base = input(\"Convert from (currency): \")\n",
    "curr = input(\"Convert to (currency): \")\n",
    "quan = float(input(\"How much {} do you want to convert: \".format(base)))\n",
    "exchange_rate_convertor(date,base,curr,quan)"
   ]
  },
  {
   "cell_type": "code",
   "execution_count": 6,
   "metadata": {},
   "outputs": [
    {
     "name": "stdout",
     "output_type": "stream",
     "text": [
      "Please enter the date (in the format 'yyyy-mm-dd' or 'latest'): 2018-04-11\n",
      "Convert from (currency): USD\n",
      "Convert to (currency): INR\n",
      "How much USD do you want to convert: 1000\n",
      "\n",
      "1000.0 USD is equal to 65304.8288114 INR, based upon exchange rates on 2018-04-11\n"
     ]
    }
   ],
   "source": [
    "date = input(\"Please enter the date (in the format 'yyyy-mm-dd' or 'latest'): \")\n",
    "base = input(\"Convert from (currency): \")\n",
    "curr = input(\"Convert to (currency): \")\n",
    "quan = float(input(\"How much {} do you want to convert: \".format(base)))\n",
    "exchange_rate_convertor(date,base,curr,quan)"
   ]
  }
 ],
 "metadata": {
  "kernelspec": {
   "display_name": "Python 3",
   "language": "python",
   "name": "python3"
  },
  "language_info": {
   "codemirror_mode": {
    "name": "ipython",
    "version": 3
   },
   "file_extension": ".py",
   "mimetype": "text/x-python",
   "name": "python",
   "nbconvert_exporter": "python",
   "pygments_lexer": "ipython3",
   "version": "3.7.3"
  }
 },
 "nbformat": 4,
 "nbformat_minor": 2
}
