{
 "cells": [
  {
   "cell_type": "code",
   "execution_count": 1,
   "metadata": {},
   "outputs": [],
   "source": [
    "# load packages\n",
    "import requests\n",
    "from bs4 import BeautifulSoup\n",
    "import pandas as pd"
   ]
  },
  {
   "cell_type": "code",
   "execution_count": 2,
   "metadata": {},
   "outputs": [],
   "source": [
    "# Define the URL of the site\n",
    "base_site = \"https://editorial.rottentomatoes.com/guide/140-essential-action-movies-to-watch-now/\""
   ]
  },
  {
   "cell_type": "code",
   "execution_count": 3,
   "metadata": {},
   "outputs": [
    {
     "data": {
      "text/plain": [
       "200"
      ]
     },
     "execution_count": 3,
     "metadata": {},
     "output_type": "execute_result"
    }
   ],
   "source": [
    "# sending a request to the webpage\n",
    "response = requests.get(base_site)\n",
    "response.status_code"
   ]
  },
  {
   "cell_type": "code",
   "execution_count": 4,
   "metadata": {},
   "outputs": [],
   "source": [
    "# get the HTML from the webpage\n",
    "html = response.content"
   ]
  },
  {
   "cell_type": "code",
   "execution_count": 5,
   "metadata": {},
   "outputs": [],
   "source": [
    "# convert the HTML to a Beautiful Soup object\n",
    "soup = BeautifulSoup(html,'lxml')"
   ]
  },
  {
   "cell_type": "code",
   "execution_count": 6,
   "metadata": {},
   "outputs": [],
   "source": [
    "# Exporting the HTML to a file\n",
    "with open('140-essential-action-movies-to-watch-no.html','wb') as file:\n",
    "    file.write(soup.prettify('utf-8'))"
   ]
  },
  {
   "cell_type": "markdown",
   "metadata": {},
   "source": [
    "Every movie is present in the \"col-sm-18 col-full-xs countdown-item-content\" class and \"article_movie_title\" class contains movie_title,year and tMeterScore"
   ]
  },
  {
   "cell_type": "code",
   "execution_count": 7,
   "metadata": {},
   "outputs": [
    {
     "data": {
      "text/plain": [
       "140"
      ]
     },
     "execution_count": 7,
     "metadata": {},
     "output_type": "execute_result"
    }
   ],
   "source": [
    "# Find all div tags on the webpage containing the information we want to scrape\n",
    "divs_info = soup.find_all(\"div\",{\"class\":\"col-sm-18 col-full-xs countdown-item-content\"})\n",
    "len(divs_info)"
   ]
  },
  {
   "cell_type": "code",
   "execution_count": 8,
   "metadata": {},
   "outputs": [
    {
     "name": "stdout",
     "output_type": "stream",
     "text": [
      "<div class=\"col-sm-18 col-full-xs countdown-item-content\">\n",
      "<div class=\"row countdown-item-title-bar\">\n",
      "<div class=\"col-sm-20 col-full-xs\" style=\"height: 100%;\">\n",
      "<div class=\"article_movie_title\" style=\"float: left;\">\n",
      "<div><h2><a href=\"https://www.rottentomatoes.com/m/1018009-running_scared/\">Running Scared</a> <span class=\"subtle start-year\">(1986)</span> <span class=\"icon tiny fresh\" title=\"Fresh\"></span> <span class=\"tMeterScore\">60%</span></h2></div>\n",
      "</div>\n",
      "</div>\n",
      "<div class=\"col-sm-4 col-full-xs\" style=\"height: 100%;\">\n",
      "<div class=\"countdown-index\">#140</div>\n",
      "</div>\n",
      "</div>\n",
      "<div class=\"row countdown-item-details\">\n",
      "<div class=\"col-sm-24\">\n",
      "<div class=\"info countdown-adjusted-score\"><span class=\"descriptor\">Adjusted Score: </span>61.188% <span class=\"glyphicon glyphicon-question-sign\" data-html=\"true\" data-original-title=\"The Adjusted Score comes from a weighted formula (Bayesian) that we use that accounts for variation in the number of reviews per movie.\" data-placement=\"top\" data-toggle=\"tooltip\" rel=\"tooltip\" title=\"\"></span></div>\n",
      "<div class=\"info critics-consensus\"><span class=\"descriptor\">Critics Consensus:</span> Running Scared struggles to strike a consistent balance between violent action and humor, but the chemistry between its well-matched leads keeps things entertaining.</div>\n",
      "<div class=\"info synopsis\"><span class=\"descriptor\">Synopsis:</span> Distinguished by a sharp, witty dialogue between its two cop protagonists, Ray and Danny (Gregory Hines and Billy Crystal), this...<a class=\"\" data-pageheader=\"\" href=\"https://www.rottentomatoes.com/m/1018009-running_scared/\" target=\"_top\"> [More]</a></div>\n",
      "<div class=\"info cast\">\n",
      "<span class=\"descriptor\">Starring:</span> <a class=\"\" href=\"/celebrity/gregory_hines/\">Gregory Hines</a>, <a class=\"\" href=\"/celebrity/billy_crystal/\">Billy Crystal</a>, <a class=\"\" href=\"/celebrity/jimmy_smits/\">Jimmy Smits</a>, <a class=\"\" href=\"/celebrity/steven_bauer/\">Steven Bauer</a></div>\n",
      "<div class=\"info director\">\n",
      "<span class=\"descriptor\">Directed By:</span> <a class=\"\" href=\"/celebrity/peter_hyams/\">Peter Hyams</a></div>\n",
      "</div>\n",
      "</div>\n",
      "</div>\n"
     ]
    }
   ],
   "source": [
    "print(divs_info[0])"
   ]
  },
  {
   "cell_type": "markdown",
   "metadata": {},
   "source": [
    "### Title, year and tMeterScore are contained in the \"h2\" tag of each this div"
   ]
  },
  {
   "cell_type": "code",
   "execution_count": 9,
   "metadata": {},
   "outputs": [
    {
     "data": {
      "text/plain": [
       "<h2><a href=\"https://www.rottentomatoes.com/m/1018009-running_scared/\">Running Scared</a> <span class=\"subtle start-year\">(1986)</span> <span class=\"icon tiny fresh\" title=\"Fresh\"></span> <span class=\"tMeterScore\">60%</span></h2>"
      ]
     },
     "execution_count": 9,
     "metadata": {},
     "output_type": "execute_result"
    }
   ],
   "source": [
    "headings = [div.find(\"h2\") for div in divs_info]\n",
    "headings[0]"
   ]
  },
  {
   "cell_type": "code",
   "execution_count": 10,
   "metadata": {},
   "outputs": [
    {
     "data": {
      "text/plain": [
       "'Running Scared'"
      ]
     },
     "execution_count": 10,
     "metadata": {},
     "output_type": "execute_result"
    }
   ],
   "source": [
    "title_list = [heading.find('a').text.strip() for heading in headings]\n",
    "title_list[0]"
   ]
  },
  {
   "cell_type": "code",
   "execution_count": 11,
   "metadata": {},
   "outputs": [
    {
     "data": {
      "text/plain": [
       "1986"
      ]
     },
     "execution_count": 11,
     "metadata": {},
     "output_type": "execute_result"
    }
   ],
   "source": [
    "year_list = [int(heading.find('span',class_=\"subtle start-year\").text.strip('()')) for heading in headings]\n",
    "year_list[0]"
   ]
  },
  {
   "cell_type": "code",
   "execution_count": 12,
   "metadata": {},
   "outputs": [
    {
     "data": {
      "text/plain": [
       "60.0"
      ]
     },
     "execution_count": 12,
     "metadata": {},
     "output_type": "execute_result"
    }
   ],
   "source": [
    "tMeterScore = [float(heading.find('span',class_=\"tMeterScore\").text.strip('()').strip(\"%\")) for heading in headings]\n",
    "tMeterScore[0]"
   ]
  },
  {
   "cell_type": "markdown",
   "metadata": {},
   "source": [
    "### Fetching countdown-index,Adjusted Score,Critics Consensus,Synopsis,Starring,Directed By"
   ]
  },
  {
   "cell_type": "code",
   "execution_count": 13,
   "metadata": {},
   "outputs": [
    {
     "data": {
      "text/plain": [
       "140"
      ]
     },
     "execution_count": 13,
     "metadata": {},
     "output_type": "execute_result"
    }
   ],
   "source": [
    "countdown_index_list = [int(div.find('div',class_=\"countdown-index\").text.strip(\"#\")) for div in divs_info]\n",
    "countdown_index_list[0]"
   ]
  },
  {
   "cell_type": "code",
   "execution_count": 14,
   "metadata": {},
   "outputs": [
    {
     "data": {
      "text/plain": [
       "61.188"
      ]
     },
     "execution_count": 14,
     "metadata": {},
     "output_type": "execute_result"
    }
   ],
   "source": [
    "adjusted_score_list = [float(div.find(\"div\",class_=\"info countdown-adjusted-score\").contents[1].strip().strip(\"%\")) for div in divs_info]\n",
    "adjusted_score_list[0]"
   ]
  },
  {
   "cell_type": "code",
   "execution_count": 15,
   "metadata": {},
   "outputs": [
    {
     "data": {
      "text/plain": [
       "'Running Scared struggles to strike a consistent balance between violent action and humor, but the chemistry between its well-matched leads keeps things entertaining.'"
      ]
     },
     "execution_count": 15,
     "metadata": {},
     "output_type": "execute_result"
    }
   ],
   "source": [
    "critics_consensus_list = [div.find(\"div\",class_=\"info critics-consensus\").contents[1].strip() for div in divs_info]\n",
    "critics_consensus_list[0]"
   ]
  },
  {
   "cell_type": "code",
   "execution_count": 16,
   "metadata": {},
   "outputs": [
    {
     "data": {
      "text/plain": [
       "'Distinguished by a sharp, witty dialogue between its two cop protagonists, Ray and Danny (Gregory Hines and Billy Crystal), this...'"
      ]
     },
     "execution_count": 16,
     "metadata": {},
     "output_type": "execute_result"
    }
   ],
   "source": [
    "synopsis_list = [div.find(\"div\",class_=\"info synopsis\").contents[1].strip() for div in divs_info]\n",
    "synopsis_list[0]"
   ]
  },
  {
   "cell_type": "code",
   "execution_count": 17,
   "metadata": {},
   "outputs": [
    {
     "data": {
      "text/plain": [
       "'https://www.rottentomatoes.com/m/1018009-running_scared/'"
      ]
     },
     "execution_count": 17,
     "metadata": {},
     "output_type": "execute_result"
    }
   ],
   "source": [
    "synopsis_link_list = [div.find(\"div\",class_=\"info synopsis\").find(\"a\").get('href') for div in divs_info]\n",
    "synopsis_link_list[0]"
   ]
  },
  {
   "cell_type": "code",
   "execution_count": 18,
   "metadata": {},
   "outputs": [
    {
     "data": {
      "text/plain": [
       "'Peter Hyams'"
      ]
     },
     "execution_count": 18,
     "metadata": {},
     "output_type": "execute_result"
    }
   ],
   "source": [
    "director_list = [None if div.find(\"div\",class_=\"info director\").find(\"a\") is None else div.find(\"div\",class_=\"info director\").find(\"a\").text.strip() for div in divs_info]\n",
    "director_list[0]"
   ]
  },
  {
   "cell_type": "code",
   "execution_count": 19,
   "metadata": {},
   "outputs": [
    {
     "data": {
      "text/plain": [
       "'Gregory Hines, Billy Crystal, Jimmy Smits, Steven Bauer'"
      ]
     },
     "execution_count": 19,
     "metadata": {},
     "output_type": "execute_result"
    }
   ],
   "source": [
    "cast_info = [div.find(\"div\",class_=\"info cast\") for div in divs_info]\n",
    "cast_list = [\", \".join([link.string for link in c.find_all(\"a\")]) for c in cast_info]\n",
    "cast_list[0]"
   ]
  },
  {
   "cell_type": "code",
   "execution_count": 20,
   "metadata": {},
   "outputs": [],
   "source": [
    "movies_info = pd.DataFrame()\n",
    "\n",
    "movies_info['countdown_index'] = countdown_index_list\n",
    "movies_info['title'] = title_list\n",
    "movies_info['year'] = year_list\n",
    "movies_info['tMeterScore'] = tMeterScore\n",
    "movies_info['adjusted_score'] = adjusted_score_list\n",
    "movies_info['critics_consensus'] = critics_consensus_list\n",
    "movies_info['synopsis'] = synopsis_list\n",
    "movies_info['synopsis_link'] = synopsis_link_list\n",
    "movies_info['director'] = director_list\n",
    "movies_info['cast'] = cast_list\n"
   ]
  },
  {
   "cell_type": "code",
   "execution_count": 21,
   "metadata": {},
   "outputs": [
    {
     "data": {
      "text/html": [
       "<div>\n",
       "<style scoped>\n",
       "    .dataframe tbody tr th:only-of-type {\n",
       "        vertical-align: middle;\n",
       "    }\n",
       "\n",
       "    .dataframe tbody tr th {\n",
       "        vertical-align: top;\n",
       "    }\n",
       "\n",
       "    .dataframe thead th {\n",
       "        text-align: right;\n",
       "    }\n",
       "</style>\n",
       "<table border=\"1\" class=\"dataframe\">\n",
       "  <thead>\n",
       "    <tr style=\"text-align: right;\">\n",
       "      <th></th>\n",
       "      <th>countdown_index</th>\n",
       "      <th>title</th>\n",
       "      <th>year</th>\n",
       "      <th>tMeterScore</th>\n",
       "      <th>adjusted_score</th>\n",
       "      <th>critics_consensus</th>\n",
       "      <th>synopsis</th>\n",
       "      <th>synopsis_link</th>\n",
       "      <th>director</th>\n",
       "      <th>cast</th>\n",
       "    </tr>\n",
       "  </thead>\n",
       "  <tbody>\n",
       "    <tr>\n",
       "      <th>0</th>\n",
       "      <td>140</td>\n",
       "      <td>Running Scared</td>\n",
       "      <td>1986</td>\n",
       "      <td>60.0</td>\n",
       "      <td>61.188</td>\n",
       "      <td>Running Scared struggles to strike a consisten...</td>\n",
       "      <td>Distinguished by a sharp, witty dialogue betwe...</td>\n",
       "      <td>https://www.rottentomatoes.com/m/1018009-runni...</td>\n",
       "      <td>Peter Hyams</td>\n",
       "      <td>Gregory Hines, Billy Crystal, Jimmy Smits, Ste...</td>\n",
       "    </tr>\n",
       "    <tr>\n",
       "      <th>1</th>\n",
       "      <td>139</td>\n",
       "      <td>Equilibrium</td>\n",
       "      <td>2002</td>\n",
       "      <td>40.0</td>\n",
       "      <td>41.991</td>\n",
       "      <td>Equilibrium is a reheated mishmash of other sc...</td>\n",
       "      <td>In the nation of Libria, there is always peace...</td>\n",
       "      <td>https://www.rottentomatoes.com/m/equilibrium/</td>\n",
       "      <td>Kurt Wimmer</td>\n",
       "      <td>Christian Bale, Emily Watson, Taye Diggs, Angu...</td>\n",
       "    </tr>\n",
       "    <tr>\n",
       "      <th>2</th>\n",
       "      <td>138</td>\n",
       "      <td>Hero</td>\n",
       "      <td>2004</td>\n",
       "      <td>95.0</td>\n",
       "      <td>100.759</td>\n",
       "      <td>With death-defying action sequences and epic h...</td>\n",
       "      <td>Hero is two-time Academy Award nominee Zhang Y...</td>\n",
       "      <td>https://www.rottentomatoes.com/m/hero/</td>\n",
       "      <td>Zhang Yimou</td>\n",
       "      <td>Jet Li, Tony Leung Chiu Wai, Maggie Cheung, Da...</td>\n",
       "    </tr>\n",
       "    <tr>\n",
       "      <th>3</th>\n",
       "      <td>137</td>\n",
       "      <td>Road House</td>\n",
       "      <td>1989</td>\n",
       "      <td>39.0</td>\n",
       "      <td>41.997</td>\n",
       "      <td>Whether Road House is simply bad or so bad it'...</td>\n",
       "      <td>Dalton (Swayze) is a true gentleman with a deg...</td>\n",
       "      <td>https://www.rottentomatoes.com/m/1017666-road_...</td>\n",
       "      <td>Rowdy Herrington</td>\n",
       "      <td>Patrick Swayze, Kelly Lynch, Sam Elliott, Ben ...</td>\n",
       "    </tr>\n",
       "    <tr>\n",
       "      <th>4</th>\n",
       "      <td>136</td>\n",
       "      <td>Unstoppable</td>\n",
       "      <td>2010</td>\n",
       "      <td>86.0</td>\n",
       "      <td>91.465</td>\n",
       "      <td>As fast, loud, and relentless as the train at ...</td>\n",
       "      <td>In this action thriller from director Tony Sco...</td>\n",
       "      <td>https://www.rottentomatoes.com/m/unstoppable-2...</td>\n",
       "      <td>Tony Scott</td>\n",
       "      <td>Denzel Washington, Chris Pine, Rosario Dawson,...</td>\n",
       "    </tr>\n",
       "  </tbody>\n",
       "</table>\n",
       "</div>"
      ],
      "text/plain": [
       "   countdown_index           title  year  tMeterScore  adjusted_score  \\\n",
       "0              140  Running Scared  1986         60.0          61.188   \n",
       "1              139     Equilibrium  2002         40.0          41.991   \n",
       "2              138            Hero  2004         95.0         100.759   \n",
       "3              137      Road House  1989         39.0          41.997   \n",
       "4              136     Unstoppable  2010         86.0          91.465   \n",
       "\n",
       "                                   critics_consensus  \\\n",
       "0  Running Scared struggles to strike a consisten...   \n",
       "1  Equilibrium is a reheated mishmash of other sc...   \n",
       "2  With death-defying action sequences and epic h...   \n",
       "3  Whether Road House is simply bad or so bad it'...   \n",
       "4  As fast, loud, and relentless as the train at ...   \n",
       "\n",
       "                                            synopsis  \\\n",
       "0  Distinguished by a sharp, witty dialogue betwe...   \n",
       "1  In the nation of Libria, there is always peace...   \n",
       "2  Hero is two-time Academy Award nominee Zhang Y...   \n",
       "3  Dalton (Swayze) is a true gentleman with a deg...   \n",
       "4  In this action thriller from director Tony Sco...   \n",
       "\n",
       "                                       synopsis_link          director  \\\n",
       "0  https://www.rottentomatoes.com/m/1018009-runni...       Peter Hyams   \n",
       "1      https://www.rottentomatoes.com/m/equilibrium/       Kurt Wimmer   \n",
       "2             https://www.rottentomatoes.com/m/hero/       Zhang Yimou   \n",
       "3  https://www.rottentomatoes.com/m/1017666-road_...  Rowdy Herrington   \n",
       "4  https://www.rottentomatoes.com/m/unstoppable-2...        Tony Scott   \n",
       "\n",
       "                                                cast  \n",
       "0  Gregory Hines, Billy Crystal, Jimmy Smits, Ste...  \n",
       "1  Christian Bale, Emily Watson, Taye Diggs, Angu...  \n",
       "2  Jet Li, Tony Leung Chiu Wai, Maggie Cheung, Da...  \n",
       "3  Patrick Swayze, Kelly Lynch, Sam Elliott, Ben ...  \n",
       "4  Denzel Washington, Chris Pine, Rosario Dawson,...  "
      ]
     },
     "execution_count": 21,
     "metadata": {},
     "output_type": "execute_result"
    }
   ],
   "source": [
    "movies_info.head()"
   ]
  },
  {
   "cell_type": "code",
   "execution_count": 22,
   "metadata": {},
   "outputs": [],
   "source": [
    "movies_info.to_csv(\"140-essential-action-movies-to-watch-now.csv\",index=False)"
   ]
  }
 ],
 "metadata": {
  "kernelspec": {
   "display_name": "Python 3",
   "language": "python",
   "name": "python3"
  },
  "language_info": {
   "codemirror_mode": {
    "name": "ipython",
    "version": 3
   },
   "file_extension": ".py",
   "mimetype": "text/x-python",
   "name": "python",
   "nbconvert_exporter": "python",
   "pygments_lexer": "ipython3",
   "version": "3.7.3"
  }
 },
 "nbformat": 4,
 "nbformat_minor": 2
}
